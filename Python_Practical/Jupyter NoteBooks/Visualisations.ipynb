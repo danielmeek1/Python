{
 "cells": [
  {
   "cell_type": "code",
   "execution_count": 1,
   "id": "3854b83a",
   "metadata": {},
   "outputs": [
    {
     "name": "stdout",
     "output_type": "stream",
     "text": [
      "The average number of general tweets per user is: 0.17986152003086356\n",
      "The average number of mentions tweets per user is: 0.12668277528477737\n",
      "The average number of retweets per user is: 1.183455501634551\n",
      "The average number of replies per user is: 0.03423419764868322\n",
      "[('Philae', 30553), ('ESA', 22531), ('esa', 4386), ('philae', 3258), ('esaoperations', 3116)]\n",
      "[('philae', 33811), ('esa', 26938), ('esaoperations', 3122), ('nasa', 2477), ('bbcbreaking', 2177)]\n"
     ]
    }
   ],
   "source": [
    "import pandas as pd\n",
    "import matplotlib.pyplot as plt\n",
    "%matplotlib inline\n",
    "from wordcloud import WordCloud, STOPWORDS\n",
    "import matplotlib.ticker as ticker\n",
    "import matplotlib.cm as cm\n",
    "import matplotlib as mpl\n",
    "from matplotlib.gridspec import GridSpec\n",
    "import DataAnalysis as da\n",
    "import numpy as np\n",
    "import re"
   ]
  },
  {
   "cell_type": "code",
   "execution_count": 2,
   "id": "d55e552e",
   "metadata": {
    "scrolled": false
   },
   "outputs": [],
   "source": [
    "pd.set_option('max_colwidth', 400)\n",
    "\n",
    "df = pd.read_csv('./data/CleanedCometLanding.csv')\n",
    "\n",
    "dfHashtags = pd.read_csv('./data/Hashtags.csv', names = ['Hashtags'])\n",
    "dfHashtags.drop(index=0)\n",
    "\n",
    "dfHashtagsCI = pd.read_csv('./data/HashtagsCI.csv', names = ['Hashtags'])\n",
    "dfHashtagsCI.drop(index=0)\n",
    "\n",
    "dfHours = pd.read_csv('./data/Hours.csv' , names = ['Hours', 'Frequency'])\n",
    "\n",
    "dfDays = pd.read_csv('./data/Days.csv' , names = ['Days', 'Frequency'])\n",
    "\n",
    "dfDates = pd.read_csv('./data/Date.csv' , names = ['Dates', 'Frequency'])"
   ]
  },
  {
   "cell_type": "code",
   "execution_count": 3,
   "id": "f655adb7",
   "metadata": {
    "scrolled": true
   },
   "outputs": [
    {
     "data": {
      "text/html": [
       "<div>\n",
       "<style scoped>\n",
       "    .dataframe tbody tr th:only-of-type {\n",
       "        vertical-align: middle;\n",
       "    }\n",
       "\n",
       "    .dataframe tbody tr th {\n",
       "        vertical-align: top;\n",
       "    }\n",
       "\n",
       "    .dataframe thead th {\n",
       "        text-align: right;\n",
       "    }\n",
       "</style>\n",
       "<table border=\"1\" class=\"dataframe\">\n",
       "  <thead>\n",
       "    <tr style=\"text-align: right;\">\n",
       "      <th></th>\n",
       "      <th>Days</th>\n",
       "      <th>Frequency</th>\n",
       "    </tr>\n",
       "  </thead>\n",
       "  <tbody>\n",
       "    <tr>\n",
       "      <th>0</th>\n",
       "      <td>Wed</td>\n",
       "      <td>72054</td>\n",
       "    </tr>\n",
       "    <tr>\n",
       "      <th>1</th>\n",
       "      <td>Thu</td>\n",
       "      <td>684</td>\n",
       "    </tr>\n",
       "    <tr>\n",
       "      <th>2</th>\n",
       "      <td>Mon</td>\n",
       "      <td>592</td>\n",
       "    </tr>\n",
       "    <tr>\n",
       "      <th>3</th>\n",
       "      <td>Fri</td>\n",
       "      <td>545</td>\n",
       "    </tr>\n",
       "    <tr>\n",
       "      <th>4</th>\n",
       "      <td>Tue</td>\n",
       "      <td>467</td>\n",
       "    </tr>\n",
       "  </tbody>\n",
       "</table>\n",
       "</div>"
      ],
      "text/plain": [
       "  Days  Frequency\n",
       "0  Wed      72054\n",
       "1  Thu        684\n",
       "2  Mon        592\n",
       "3  Fri        545\n",
       "4  Tue        467"
      ]
     },
     "execution_count": 3,
     "metadata": {},
     "output_type": "execute_result"
    }
   ],
   "source": [
    "dfDays"
   ]
  },
  {
   "cell_type": "code",
   "execution_count": 4,
   "id": "c971271e",
   "metadata": {
    "scrolled": true
   },
   "outputs": [
    {
     "data": {
      "text/html": [
       "<div>\n",
       "<style scoped>\n",
       "    .dataframe tbody tr th:only-of-type {\n",
       "        vertical-align: middle;\n",
       "    }\n",
       "\n",
       "    .dataframe tbody tr th {\n",
       "        vertical-align: top;\n",
       "    }\n",
       "\n",
       "    .dataframe thead th {\n",
       "        text-align: right;\n",
       "    }\n",
       "</style>\n",
       "<table border=\"1\" class=\"dataframe\">\n",
       "  <thead>\n",
       "    <tr style=\"text-align: right;\">\n",
       "      <th></th>\n",
       "      <th>Hours</th>\n",
       "      <th>Frequency</th>\n",
       "    </tr>\n",
       "  </thead>\n",
       "  <tbody>\n",
       "    <tr>\n",
       "      <th>0</th>\n",
       "      <td>9</td>\n",
       "      <td>9577</td>\n",
       "    </tr>\n",
       "    <tr>\n",
       "      <th>1</th>\n",
       "      <td>12</td>\n",
       "      <td>6306</td>\n",
       "    </tr>\n",
       "    <tr>\n",
       "      <th>2</th>\n",
       "      <td>16</td>\n",
       "      <td>6106</td>\n",
       "    </tr>\n",
       "    <tr>\n",
       "      <th>3</th>\n",
       "      <td>18</td>\n",
       "      <td>6098</td>\n",
       "    </tr>\n",
       "    <tr>\n",
       "      <th>4</th>\n",
       "      <td>17</td>\n",
       "      <td>6055</td>\n",
       "    </tr>\n",
       "  </tbody>\n",
       "</table>\n",
       "</div>"
      ],
      "text/plain": [
       "   Hours  Frequency\n",
       "0      9       9577\n",
       "1     12       6306\n",
       "2     16       6106\n",
       "3     18       6098\n",
       "4     17       6055"
      ]
     },
     "execution_count": 4,
     "metadata": {},
     "output_type": "execute_result"
    }
   ],
   "source": [
    "dfHours"
   ]
  },
  {
   "cell_type": "code",
   "execution_count": 5,
   "id": "6a270760",
   "metadata": {},
   "outputs": [],
   "source": [
    "''' This function plots a pie chart for the structure of the dataset (tweets/retweets/replies)'''\n",
    "\n",
    "def visualiseStruct(df):\n",
    "    tweetStructs = ['General tweets', 'Mentions', 'Retweets', 'Replies']\n",
    "    proportions = []\n",
    "    myExplode = [0, 0, 0.2, 0]\n",
    "\n",
    "    proportions.append(da.getNumberOfGeneralTweets(df))\n",
    "    proportions.append(da.getNumberOfMentionTweets(df))\n",
    "    proportions.append(da.getNumberOfRetweets(df))\n",
    "    proportions.append(da.getNumberOfReplies(df))\n",
    "    \n",
    "    fig1, ax1 = plt.subplots()\n",
    "    ax1.pie(proportions, labels = tweetStructs, explode = myExplode, autopct='%1.1f%%', shadow = True)\n",
    "    ax1.set_title('Structure Of The Dataset')\n",
    "    plt.show()"
   ]
  },
  {
   "cell_type": "code",
   "execution_count": 6,
   "id": "c3ee539c",
   "metadata": {},
   "outputs": [],
   "source": [
    "''' This function plots the word cloud of all hashtags in the dataset '''\n",
    "#https://www.geeksforgeeks.org/generating-word-cloud-python\n",
    "#https://www.analyticsvidhya.com/blog/2021/05/how-to-build-word-cloud-in-python/\n",
    "\n",
    "def createWordCloud(dfHashtags):\n",
    "    \n",
    "    data = ''\n",
    "    \n",
    "    for (columnName, columnData) in dfHashtags['Hashtags'].iteritems():  \n",
    "        data += \" \" + columnData +\" \"      \n",
    "    \n",
    "    stopwords = set(STOPWORDS)\n",
    "    \n",
    "    wordcloud = WordCloud(width = 800, height = 800,\n",
    "                          background_color='white',\n",
    "                          stopwords= stopwords,\n",
    "                          min_font_size = 10).generate(data)\n",
    "\n",
    "    plt.figure(figsize = (8, 8), facecolor = None)\n",
    "    plt.imshow(wordcloud)\n",
    "    plt.axis(\"off\")\n",
    "    plt.tight_layout(pad = 0)\n",
    " \n",
    "    plt.show()"
   ]
  },
  {
   "cell_type": "code",
   "execution_count": 7,
   "id": "41e140ee",
   "metadata": {},
   "outputs": [],
   "source": [
    "#https://www.geeksforgeeks.org/bar-plot-in-matplotlib/\n",
    "def plotTweetsPerDay(dfDays):\n",
    "    \n",
    "    data = dfDays.set_index('Days')['Frequency'].to_dict()\n",
    "    \n",
    "    days = list(data.keys())\n",
    "    frequency = list(data.values())\n",
    "      \n",
    "    \n",
    "    fig = plt.figure(figsize = (10, 5))\n",
    " \n",
    "    # creating the bar plot\n",
    "    plt.bar(hours, frequency, color ='maroon',\n",
    "        width = 0.4)\n",
    " \n",
    "    plt.ylim(0, 5000)\n",
    "    plt.xlabel(\"Days Of The Week\")\n",
    "    plt.ylabel(\"Frequency Of Tweets In Numbers\")\n",
    "    plt.title(\"Tweet Frequency During Rosetta’s Philae Lander On Different Days Of The Week\")\n",
    "    plt.show()"
   ]
  },
  {
   "cell_type": "code",
   "execution_count": 12,
   "id": "0caaa932",
   "metadata": {},
   "outputs": [],
   "source": [
    "#https://www.geeksforgeeks.org/bar-plot-in-matplotlib/\n",
    "def plotTweetsPerHours(dfHours):\n",
    "    \n",
    "    data = dfHours.set_index('Hours')['Frequency'].to_dict()\n",
    "    \n",
    "    hours = list(data.keys())\n",
    "    frequency = list(data.values())\n",
    "      \n",
    "    \n",
    "    fig = plt.figure(figsize = (10, 5))\n",
    " \n",
    "    # creating the bar plot\n",
    "    plt.bar(hours, frequency, color ='maroon',\n",
    "        width = 0.4)\n",
    " \n",
    "    #plt.ylim(0, 5000)\n",
    "    plt.xlabel(\"Hours of the day in the 24 Hour Format\")\n",
    "    plt.ylabel(\"Frequency Of Tweets In Numbers\")\n",
    "    plt.title(\"Tweet Frequency During Rosetta’s Philae Lander On Different Hours Of The Day\")\n",
    "    plt.show()"
   ]
  },
  {
   "cell_type": "code",
   "execution_count": 13,
   "id": "55942e63",
   "metadata": {
    "scrolled": false
   },
   "outputs": [
    {
     "data": {
      "image/png": "[encoded data removed]",
      "text/plain": [
       "<Figure size 720x360 with 1 Axes>"
      ]
     },
     "metadata": {
      "needs_background": "light"
     },
     "output_type": "display_data"
    }
   ],
   "source": [
    "plotTweetsPerHours(dfHours)"
   ]
  },
  {
   "cell_type": "code",
   "execution_count": null,
   "id": "261b6818",
   "metadata": {},
   "outputs": [],
   "source": [
    "plotTweetsPerDay(dfDays)"
   ]
  },
  {
   "cell_type": "code",
   "execution_count": null,
   "id": "9d7e1526",
   "metadata": {},
   "outputs": [],
   "source": [
    "def plotAllCharts():\n",
    "    visualiseStruct(df)\n",
    "    createWordCloud(dfHashtags)\n",
    "    plotTweetsPerDay(dfDays)\n",
    "    plotTweetsPerHours(dfHours)"
   ]
  },
  {
   "cell_type": "code",
   "execution_count": null,
   "id": "eb466772",
   "metadata": {},
   "outputs": [],
   "source": [
    "plotAllCharts()"
   ]
  },
  {
   "cell_type": "code",
   "execution_count": null,
   "id": "e4c9dc2d",
   "metadata": {},
   "outputs": [],
   "source": [
    "#''' This function plots a bar chart that displays the frequency of tweets per hour'''\n",
    "#''' This bar chart helps us understand user behaviour about the most popular time in the day to tweet'''\n",
    "\n",
    "#def plotTweetsPerHour(data):\n",
    "    \n",
    "    "
   ]
  },
  {
   "cell_type": "code",
   "execution_count": null,
   "id": "66ddb5f6",
   "metadata": {},
   "outputs": [],
   "source": []
  },
  {
   "cell_type": "code",
   "execution_count": null,
   "id": "af99377a",
   "metadata": {},
   "outputs": [],
   "source": [
    "def plotTweetsPerHour(df):\n",
    "    "
   ]
  },
  {
   "cell_type": "code",
   "execution_count": null,
   "id": "289036b7",
   "metadata": {},
   "outputs": [],
   "source": [
    "def plotTweetsPerDate(df):\n",
    "    "
   ]
  }
 ],
 "metadata": {
  "kernelspec": {
   "display_name": "Python 3 (ipykernel)",
   "language": "python",
   "name": "python3"
  },
  "language_info": {
   "codemirror_mode": {
    "name": "ipython",
    "version": 3
   },
   "file_extension": ".py",
   "mimetype": "text/x-python",
   "name": "python",
   "nbconvert_exporter": "python",
   "pygments_lexer": "ipython3",
   "version": "3.9.10"
  }
 },
 "nbformat": 4,
 "nbformat_minor": 5
}
