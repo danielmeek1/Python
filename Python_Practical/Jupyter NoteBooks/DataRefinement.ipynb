{
 "cells": [
  {
   "cell_type": "code",
   "execution_count": 1,
   "id": "81d43ed1",
   "metadata": {},
   "outputs": [],
   "source": [
    "import pandas as pd\n",
    "import re\n",
    "import math"
   ]
  },
  {
   "cell_type": "code",
   "execution_count": 2,
   "id": "d7140ba2",
   "metadata": {},
   "outputs": [],
   "source": [
    "pd.set_option('max_colwidth', 400)"
   ]
  },
  {
   "cell_type": "code",
   "execution_count": 3,
   "id": "9880f1f7",
   "metadata": {},
   "outputs": [],
   "source": [
    "df = pd.read_csv('./data/CometLanding.csv')"
   ]
  },
  {
   "cell_type": "code",
   "execution_count": 4,
   "id": "9b06764b",
   "metadata": {},
   "outputs": [],
   "source": [
    "''' Removes duplicates along with other basic data cleaning '''\n",
    "def basicDataCleaning(df):\n",
    "    df = df.drop_duplicates(subset=['status_url'], keep='first')\n",
    "    df = df.replace({r'[^\\x00-\\x7F]+':''}, regex=True)\n",
    "    #df = df.dropna()\n",
    "    return df"
   ]
  },
  {
   "cell_type": "code",
   "execution_count": 5,
   "id": "58c4ccca",
   "metadata": {
    "scrolled": true
   },
   "outputs": [],
   "source": [
    "df = basicDataCleaning(df)"
   ]
  },
  {
   "cell_type": "code",
   "execution_count": 6,
   "id": "e8fdcd87",
   "metadata": {},
   "outputs": [],
   "source": [
    "''' Removes usernames that are not valid from the data set (according to Twitter specifications) '''\n",
    "''' Usernames that are longer than 15 Characters are not valid '''\n",
    "''' Usernames that are not alphanumeric are not valid with the exception of underscores '''\n",
    "''' Usernames containing the words Twitter or Admin cannot be claimed. '''\n",
    "\n",
    "def validateUserName(df):\n",
    "    \n",
    "    df = df.drop(df[df['from_user'].str.len() > 15].index)  \n",
    "    df = df.drop(df[df['from_user'].apply(lambda x: re.search(r'[a-zA-Z0-9_]', x)) == None].index)\n",
    "    df = df.drop(df[df['from_user'].apply(lambda x: re.search('Twitter', x, re.IGNORECASE) != None)].index)\n",
    "    df = df.drop(df[df['from_user'].apply(lambda x: re.search('Admin', x, re.IGNORECASE) != None)].index)                 \n",
    "    return df"
   ]
  },
  {
   "cell_type": "code",
   "execution_count": 7,
   "id": "9c550eb6",
   "metadata": {},
   "outputs": [],
   "source": [
    "df = validateUserName(df)"
   ]
  },
  {
   "cell_type": "code",
   "execution_count": 8,
   "id": "272c83cb",
   "metadata": {},
   "outputs": [],
   "source": [
    "''' Refines language data '''\n",
    "''' Turns data such as en-gb to en only to achieve consistency'''\n",
    "''' Turns all data lower-case to achieve consistency'''\n",
    "\n",
    "def refineLanguageData(df):\n",
    "    df['user_lang'] = df['user_lang'].str.lower()\n",
    "    df['user_lang'] = df[\"user_lang\"].replace({'en-gb':'en'}, regex=True)\n",
    "    return df"
   ]
  },
  {
   "cell_type": "code",
   "execution_count": 9,
   "id": "85865d75",
   "metadata": {},
   "outputs": [],
   "source": [
    "df = refineLanguageData(df)"
   ]
  },
  {
   "cell_type": "code",
   "execution_count": 10,
   "id": "d6353144",
   "metadata": {},
   "outputs": [],
   "source": [
    "'''Removes the data that do not follow twitter specifications for tweet length'''\n",
    "'''A tweet could contain maximum 140 characters before November 8th 2017'''\n",
    "'''Any data that do not match this specification is questionable'''\n",
    "def validateTweetLength(df):\n",
    "    \n",
    "    df = df.drop(df[df['text'].str.len() > 140].index)\n",
    "    return df"
   ]
  },
  {
   "cell_type": "code",
   "execution_count": 11,
   "id": "f3ce7d3e",
   "metadata": {},
   "outputs": [],
   "source": [
    "df = validateTweetLength(df)"
   ]
  },
  {
   "cell_type": "code",
   "execution_count": 12,
   "id": "4dca296f",
   "metadata": {},
   "outputs": [],
   "source": [
    "'''Removes the data that do not follow twitter specifications for tweet reply'''\n",
    "'''If a tweet is a reply, in_reply_to_user_id_str and in_reply_to_status_id_str must be not null'''\n",
    "#Source:https://developer.twitter.com/en/docs/twitter-api/v1/data-dictionary/object-model/tweet\n",
    "#https://thispointer.com/pandas-4-ways-to-check-if-a-dataframe-is-empty-in-python/#:~:text=Check%20if%20dataframe%20is%20empty%20using%20Dataframe.&text=If%20our%20dataframe%20is%20empty,is%200%20in%20this%20tuple.\n",
    "#not a number\n",
    "#math.isnan()\n",
    "def validateReplyConsistency(df):\n",
    "    \n",
    "    for namedTuple in df.itertuples():\n",
    "        in_reply_to_user_id_str = namedTuple[8]\n",
    "        in_reply_to_status_id_str = namedTuple[11]\n",
    "\n",
    "        if math.isnan(in_reply_to_user_id_str) == True and math.isnan(in_reply_to_status_id_str) == False:\n",
    "            df = df.drop(namedTuple)    \n",
    "        elif math.isnan(in_reply_to_user_id_str) == True and math.isnan(in_reply_to_status_id_str) == False:\n",
    "            df = df.drop(namedTuple)\n",
    "\n",
    "    \n",
    "    return df"
   ]
  },
  {
   "cell_type": "code",
   "execution_count": 13,
   "id": "7a6ef29f",
   "metadata": {},
   "outputs": [],
   "source": [
    "df = validateReplyConsistency(df)"
   ]
  },
  {
   "cell_type": "code",
   "execution_count": 14,
   "id": "ac76285c",
   "metadata": {},
   "outputs": [],
   "source": [
    "''' Creates new CSV file with the cleaned dataset to use in analysis ''' \n",
    "def createCleanedCSV(df):\n",
    "    df.to_csv(\"./data/CleanedCometLanding.csv\", index=False)"
   ]
  },
  {
   "cell_type": "code",
   "execution_count": 15,
   "id": "7be1bc8e",
   "metadata": {},
   "outputs": [],
   "source": [
    "createCleanedCSV(df)"
   ]
  },
  {
   "cell_type": "code",
   "execution_count": null,
   "id": "f2a269e5",
   "metadata": {
    "scrolled": true
   },
   "outputs": [],
   "source": [
    "def main():\n",
    "    #77319 rows × 17 columns original data\n",
    "    df = pd.read_csv('CometLanding.csv')\n",
    "    df = basicDataCleaning(df)\n",
    "    \n",
    "\n",
    "if __name__ == \"__main__\":\n",
    "    main()"
   ]
  }
 ],
 "metadata": {
  "kernelspec": {
   "display_name": "Python 3 (ipykernel)",
   "language": "python",
   "name": "python3"
  },
  "language_info": {
   "codemirror_mode": {
    "name": "ipython",
    "version": 3
   },
   "file_extension": ".py",
   "mimetype": "text/x-python",
   "name": "python",
   "nbconvert_exporter": "python",
   "pygments_lexer": "ipython3",
   "version": "3.9.10"
  }
 },
 "nbformat": 4,
 "nbformat_minor": 5
}
