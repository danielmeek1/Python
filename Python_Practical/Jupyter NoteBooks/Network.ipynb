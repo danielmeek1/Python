{
 "cells": [
  {
   "cell_type": "code",
   "execution_count": 1,
   "id": "9c5558ad",
   "metadata": {},
   "outputs": [
    {
     "name": "stdout",
     "output_type": "stream",
     "text": [
      "The number of mention tweets is 5908\n",
      "The number of retweets is 30402\n",
      "The number of reply tweets is 1542\n",
      "The number of general tweets is 8659\n",
      "The number of total number of tweets is 46511\n",
      "The number of different users is 33247\n",
      "The average number of general tweets per user is: 0.2604445513880952\n",
      "The average number of mentions tweets per user is: 0.1777002436310043\n",
      "The average number of retweets per user is: 0.9144283694769453\n",
      "The average number of replies per user is: 0.04638012452251331\n",
      "The average number of followers per user is: 10830.035522001985\n",
      "The average number of friends per user is: 10830.035522001985\n",
      "5 most popular hashtags with their respective occurances are [('Philae', 18260), ('ESA', 10417), ('esa', 3053), ('philae', 1583), ('esaoperations', 985)]\n",
      "5 contextually different most popular hashtags with their respective occurances are [('philae', 19843), ('esa', 13477), ('esaoperations', 988), ('livestream', 904), ('observingspace', 453)]\n",
      "5 most popular apps to send tweets are [('Twitter Web Client', 17453), ('Twitter for iPhone', 7673), ('Twitter for Android', 6956), ('TweetDeck', 2753), ('Twitter for iPad', 1770)]\n"
     ]
    }
   ],
   "source": [
    "import networkx as nx\n",
    "import matplotlib.pyplot as plt\n",
    "import pandas as pd\n",
    "import re\n",
    "import DataAnalysis as da"
   ]
  },
  {
   "cell_type": "code",
   "execution_count": 2,
   "id": "6deefa3a",
   "metadata": {},
   "outputs": [],
   "source": [
    "pd.set_option('max_colwidth', 400)\n",
    "df = pd.read_csv('./data/CleanedCometLanding.csv')"
   ]
  },
  {
   "cell_type": "code",
   "execution_count": 3,
   "id": "231d003e",
   "metadata": {},
   "outputs": [],
   "source": [
    "''' This function returns the number of different users in the dataset'''\n",
    "def getDifferentUsers(df):\n",
    "    differentUsers = df['from_user'].unique()\n",
    "    return (list(differentUsers))"
   ]
  },
  {
   "cell_type": "code",
   "execution_count": 4,
   "id": "72cd36e0",
   "metadata": {},
   "outputs": [],
   "source": [
    "''' This function returns the lists for the edges in the network '''\n",
    "'''  This function iterates the dataset and adds connections to the correct list'''\n",
    "def getEdgesOfRetweets(df):\n",
    "\n",
    "    userNameColumn = df['from_user']\n",
    "    retweetEdges = []\n",
    "    mentionsEdges = []\n",
    "    repliesEdges = []\n",
    "    \n",
    "    #Itertuples has better execution performance than items() and iterrows()\n",
    "    for namedTuple in df.itertuples():\n",
    "        \n",
    "        \n",
    "        userName = namedTuple[2] #This is the username of the person sending the tweet\n",
    "        tweet = namedTuple[3] #This is the tweet itself sent by the username above\n",
    "        userBeingReplied = namedTuple[9] #This is given by the dataset if the tweet is a reply\n",
    "        \n",
    "        #If the tweet is a reply, in_reply_to_screen_name object will not be null\n",
    "        if pd.isnull(namedTuple[9]) == False:\n",
    "            repliesEdges.append((userName, userBeingReplied))\n",
    "            \n",
    "        #If the tweet is a retweet\n",
    "        if re.search('RT @' , str(tweet))!= None:\n",
    "            \n",
    "            for word in tweet.split():\n",
    "                extractionPattern = '(?<=@).*(?=:)'\n",
    "                retweet = re.search(extractionPattern,word)\n",
    "                if retweet != None:\n",
    "                    retweetEdges.append((userName,retweet.group(0)))\n",
    "            \n",
    "        #If the tweet is a mention\n",
    "        elif re.search ('@' , str(tweet))!= None:\n",
    "    \n",
    "            for word in tweet.split():\n",
    "                extractionPattern = r'(?<=@).*(?=\\b)'\n",
    "                mention = re.search(extractionPattern,word)\n",
    "                if mention != None:\n",
    "                    mentionsEdges.append((userName,mention.group(0)))     \n",
    "        \n",
    "    return retweetEdges, mentionsEdges, repliesEdges"
   ]
  },
  {
   "cell_type": "code",
   "execution_count": 5,
   "id": "e5f1e923",
   "metadata": {},
   "outputs": [],
   "source": [
    "''' This function returns the graph built from the nodes and edges returned from the functions above. '''\n",
    "def drawNetwork(df):\n",
    "    \n",
    "    df = df.head(1000)\n",
    "    \n",
    "    nodes = []\n",
    "    nodes = getDifferentUsers(df)\n",
    "    \n",
    "    #nodes = map(lambda x: (x,{'size':100}),nodes)\n",
    "    \n",
    "    retweetEdges, mentionsEdges, repliesEdges = getEdgesOfRetweets(df)\n",
    "    \n",
    "    #retweetEdges = map(lambda x: (x,{'thickness':10}),retweetEdges)\n",
    "    #mentionsEdges = map(lambda x: (x,{'thickness':20}),mentionsEdges)\n",
    "    #repliesEdges = map(lambda x: (x,{'thickness':5}),repliesEdges)\n",
    "    \n",
    "    g = nx.Graph()\n",
    "    g.add_nodes_from(nodes)\n",
    "    g.add_edges_from(retweetEdges)\n",
    "    g.add_edges_from(mentionsEdges)\n",
    "    g.add_edges_from(mentionsEdges)\n",
    "    \n",
    "    nx.draw(g,node_size = 10,width=1,with_labels=False)\n",
    "    plt.savefig('./images/network.png')\n",
    "    plt.show()"
   ]
  },
  {
   "cell_type": "code",
   "execution_count": 6,
   "id": "c4d28e51",
   "metadata": {},
   "outputs": [
    {
     "data": {
      "image/png": "[encoded data removed]",
      "text/plain": [
       "<Figure size 432x288 with 1 Axes>"
      ]
     },
     "metadata": {},
     "output_type": "display_data"
    }
   ],
   "source": [
    "drawNetwork(df)"
   ]
  },
  {
   "cell_type": "code",
   "execution_count": 7,
   "id": "d727fc8f",
   "metadata": {},
   "outputs": [],
   "source": [
    "#def main():\n",
    "\n",
    "    #pd.set_option('max_colwidth', 400)\n",
    "    #df = pd.read_csv('./data/CleanedCometLanding.csv')\n",
    "    #drawNetwork(df)\n",
    "    \n",
    "\n",
    "#if __name__ == \"__main__\":\n",
    "    #main()"
   ]
  }
 ],
 "metadata": {
  "kernelspec": {
   "display_name": "Python 3 (ipykernel)",
   "language": "python",
   "name": "python3"
  },
  "language_info": {
   "codemirror_mode": {
    "name": "ipython",
    "version": 3
   },
   "file_extension": ".py",
   "mimetype": "text/x-python",
   "name": "python",
   "nbconvert_exporter": "python",
   "pygments_lexer": "ipython3",
   "version": "3.9.10"
  }
 },
 "nbformat": 4,
 "nbformat_minor": 5
}
