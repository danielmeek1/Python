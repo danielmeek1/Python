{
 "cells": [
  {
   "cell_type": "code",
   "execution_count": null,
   "id": "9c5558ad",
   "metadata": {},
   "outputs": [],
   "source": [
    "import networkx as nx\n",
    "import matplotlib.pyplot as plt\n",
    "import pandas as pd\n",
    "import re\n",
    "import DataAnalysis as da"
   ]
  },
  {
   "cell_type": "code",
   "execution_count": null,
   "id": "6deefa3a",
   "metadata": {},
   "outputs": [],
   "source": [
    "pd.set_option('max_colwidth', 400)\n",
    "df = pd.read_csv('./data/CleanedCometLanding.csv')"
   ]
  },
  {
   "cell_type": "code",
   "execution_count": null,
   "id": "231d003e",
   "metadata": {},
   "outputs": [],
   "source": [
    "''' This function returns the number of different users in the dataset'''\n",
    "def getDifferentUsers(df):\n",
    "    differentUsers = df['from_user'].unique()\n",
    "    return (list(differentUsers))"
   ]
  },
  {
   "cell_type": "code",
   "execution_count": null,
   "id": "72cd36e0",
   "metadata": {},
   "outputs": [],
   "source": [
    "''' This function returns the lists for the edges in the network '''\n",
    "'''  This function iterates the dataset and adds connections to the correct list'''\n",
    "def getEdgesOfRetweets(df):\n",
    "\n",
    "    userNameColumn = df['from_user']\n",
    "    retweetEdges = []\n",
    "    mentionsEdges = []\n",
    "    repliesEdges = []\n",
    "    \n",
    "    #Itertuples has better execution performance than items() and iterrows()\n",
    "    for namedTuple in df.itertuples():\n",
    "        \n",
    "        \n",
    "        userName = namedTuple[2] #This is the username of the person sending the tweet\n",
    "        tweet = namedTuple[3] #This is the tweet itself sent by the username above\n",
    "        userBeingReplied = namedTuple[9] #This is given by the dataset if the tweet is a reply\n",
    "        \n",
    "        #If the tweet is a reply, in_reply_to_screen_name object will not be null\n",
    "        if pd.isnull(namedTuple[9]) == False:\n",
    "            repliesEdges.append((userName, userBeingReplied))\n",
    "            \n",
    "        #If the tweet is a retweet\n",
    "        if re.search('RT @' , tweet)!= None:\n",
    "            \n",
    "            for word in tweet.split():\n",
    "                extractionPattern = '(?<=@).*(?=:)'\n",
    "                retweet = re.search(extractionPattern,word)\n",
    "                if retweet != None:\n",
    "                    retweetEdges.append((userName,retweet.group(0)))\n",
    "            \n",
    "        #If the tweet is a mention\n",
    "        elif re.search ('@' , tweet)!= None:\n",
    "    \n",
    "            for word in tweet.split():\n",
    "                extractionPattern = r'(?<=@).*(?=\\b)'\n",
    "                mention = re.search(extractionPattern,word)\n",
    "                if mention != None:\n",
    "                    mentionsEdges.append((userName,mention.group(0)))     \n",
    "        \n",
    "    return retweetEdges, mentionsEdges, repliesEdges"
   ]
  },
  {
   "cell_type": "code",
   "execution_count": null,
   "id": "e5f1e923",
   "metadata": {},
   "outputs": [],
   "source": [
    "''' This function returns the graph built from the nodes and edges returned from the functions above. '''\n",
    "def drawNetwork(df):\n",
    "    nodes = []\n",
    "    nodes = getNumberOfDifferentUsers(df)\n",
    "    \n",
    "    retweetEdges, mentionsEdges, repliesEdges = getEdgesOfRetweets(df)\n",
    "    \n",
    "    G = nx.Graph()\n",
    "    G.add_nodes_from(nodes)\n",
    "    G.add_edges_from(retweetEdges)\n",
    "    G.add_edges_from(mentionsEdges)\n",
    "    G.add_edges_from(repliesEdges)\n",
    "\n",
    "    nx.draw_networkx(G)\n",
    "    plt.show() "
   ]
  },
  {
   "cell_type": "code",
   "execution_count": null,
   "id": "c4d28e51",
   "metadata": {},
   "outputs": [],
   "source": [
    "drawNetwork(df)"
   ]
  },
  {
   "cell_type": "code",
   "execution_count": null,
   "id": "d727fc8f",
   "metadata": {},
   "outputs": [],
   "source": []
  }
 ],
 "metadata": {
  "kernelspec": {
   "display_name": "Python 3 (ipykernel)",
   "language": "python",
   "name": "python3"
  },
  "language_info": {
   "codemirror_mode": {
    "name": "ipython",
    "version": 3
   },
   "file_extension": ".py",
   "mimetype": "text/x-python",
   "name": "python",
   "nbconvert_exporter": "python",
   "pygments_lexer": "ipython3",
   "version": "3.9.10"
  }
 },
 "nbformat": 4,
 "nbformat_minor": 5
}
