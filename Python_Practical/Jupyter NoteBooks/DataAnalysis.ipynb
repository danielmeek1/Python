{
 "cells": [
  {
   "cell_type": "code",
   "execution_count": 1,
   "id": "0121f118",
   "metadata": {},
   "outputs": [],
   "source": [
    "import pandas as pd\n",
    "import re\n",
    "import collections\n",
    "import csv"
   ]
  },
  {
   "cell_type": "markdown",
   "id": "400f48b3",
   "metadata": {},
   "source": [
    "#Data Analysis Justifications\n",
    "\n",
    "From the beginning, we always viewed this project as a data analysis project. Therefore we seperated the \n",
    "\n",
    "Source:https://help.twitter.com/en/using-twitter/types-of-tweets\n",
    "1-Mentions\n",
    "2-Replies\n",
    "3-General Tweets\n",
    "4-Retweets\n"
   ]
  },
  {
   "cell_type": "code",
   "execution_count": 3,
   "id": "72585e45",
   "metadata": {},
   "outputs": [],
   "source": [
    "#Reads in the refined data to perform data analysis\n",
    "pd.set_option('max_colwidth', 400)\n",
    "df = pd.read_csv('./data/CleanedCometLanding.csv')"
   ]
  },
  {
   "cell_type": "code",
   "execution_count": 4,
   "id": "83486dcb",
   "metadata": {},
   "outputs": [],
   "source": [
    "''' This function returns the number of mention tweets'''\n",
    "def getNumberOfMentionTweets(df): \n",
    "    counter = 0;\n",
    "    textColumn = df['text']\n",
    "    \n",
    "    for (columnName, columnData) in textColumn.iteritems():\n",
    "\n",
    "        match = re.search('RT @' , str(columnData))\n",
    "        \n",
    "        if match == None:\n",
    "            match = re.search('@' , str(columnData))\n",
    "            if match != None:\n",
    "                counter = counter + 1\n",
    "                    \n",
    "    return counter"
   ]
  },
  {
   "cell_type": "code",
   "execution_count": 5,
   "id": "6b8389ec",
   "metadata": {},
   "outputs": [],
   "source": [
    "#https://www.geeksforgeeks.org/loop-or-iterate-over-all-or-certain-columns-of-a-dataframe-in-python-pandas/\n",
    "''' This function returns the number of retweets'''\n",
    "def getNumberOfRetweets(df):\n",
    "    counter = 0;\n",
    "    textColumn = df['text']\n",
    "    \n",
    "    for (columnName, columnData) in textColumn.iteritems():\n",
    "\n",
    "        match = re.search('RT @' , str(columnData))\n",
    "        \n",
    "        if match != None:\n",
    "            counter = counter + 1\n",
    "            \n",
    "    return counter    \n",
    "        "
   ]
  },
  {
   "cell_type": "code",
   "execution_count": 6,
   "id": "f24121d9",
   "metadata": {},
   "outputs": [],
   "source": [
    "''' This function returns the number of reply tweets '''\n",
    "\n",
    "#Source:https://developer.twitter.com/en/docs/twitter-api/v1/data-dictionary/object-model/tweet\n",
    "def getNumberOfReplies(df):\n",
    "     \n",
    "    replies = df[\"in_reply_to_user_id_str\"].notnull().sum()  \n",
    "    \n",
    "    return replies\n",
    "    "
   ]
  },
  {
   "cell_type": "code",
   "execution_count": 7,
   "id": "ba7e5f43",
   "metadata": {},
   "outputs": [],
   "source": [
    "''' This function returns the number of general tweets'''\n",
    "def getNumberOfGeneralTweets(df):\n",
    "    mentions = getNumberOfMentionTweets(df)\n",
    "    retweets = getNumberOfRetweets(df)\n",
    "    replies = getNumberOfReplies(df)\n",
    "    \n",
    "    NumberOfGeneralTweets = len(df) - retweets - mentions - replies \n",
    "    return  NumberOfGeneralTweets"
   ]
  },
  {
   "cell_type": "code",
   "execution_count": 8,
   "id": "d8ccb9be",
   "metadata": {},
   "outputs": [],
   "source": [
    "''' This function returns total number of tweets'''\n",
    "def getTotalNumberOfTweets(df):\n",
    "    return len(df)"
   ]
  },
  {
   "cell_type": "code",
   "execution_count": 9,
   "id": "4d5b30e5",
   "metadata": {},
   "outputs": [],
   "source": [
    "''' This function returns the number of different users in the dataset'''\n",
    "def getNumberOfDifferentUsers(df):\n",
    "    differentUsers = df['from_user'].unique()\n",
    "    return len(differentUsers)"
   ]
  },
  {
   "cell_type": "code",
   "execution_count": 10,
   "id": "333aa197",
   "metadata": {},
   "outputs": [],
   "source": [
    "''' This function analyses the basic user behaviour''' \n",
    "''' The function prints the average number of tweets, replies, mentions, and retweets sent by a user '''\n",
    "def basicUserInteractionAnalysis(df):\n",
    "    differentUsers = getNumberOfDifferentUsers(df)\n",
    "    averageGeneralTweetsPerUser = getNumberOfGeneralTweets(df) / differentUsers\n",
    "    averageMentionsPerUser = getNumberOfMentionTweets(df) / differentUsers\n",
    "    averageRetweetsPerUser = getNumberOfRetweets(df) / differentUsers\n",
    "    averageRepliesPerUser = getNumberOfReplies(df) / differentUsers\n",
    "    \n",
    "    print(\"The average number of general tweets per user is:\", averageGeneralTweetsPerUser)\n",
    "    print(\"The average number of mentions tweets per user is:\", averageMentionsPerUser)\n",
    "    print(\"The average number of retweets per user is:\", averageRetweetsPerUser)\n",
    "    print(\"The average number of replies per user is:\", averageRepliesPerUser)\n",
    "    "
   ]
  },
  {
   "cell_type": "code",
   "execution_count": 11,
   "id": "8a9af54d",
   "metadata": {},
   "outputs": [],
   "source": [
    "''' This function prints the 5 most populat hashtag in the dataset''' \n",
    "''' This function also saves all hashtags to another file for visualisation''' \n",
    "def getMostPopularHashtags(df):\n",
    "    hashtags = [] \n",
    "    textColumn = df['text']\n",
    "    mentionPattern = '@([a-zA-Z]+)'\n",
    "    \n",
    "    for (columnName, columnData) in textColumn.iteritems():  \n",
    "        matchList = re.findall(mentionPattern , str(columnData))\n",
    "        hashtags.extend(matchList)\n",
    "    \n",
    "    counter = collections.Counter(hashtags)\n",
    "    \n",
    "    newDataFrame = pd.DataFrame(hashtags)\n",
    "    newDataFrame.to_csv('./data/Hashtags.csv',index = False)        \n",
    "    \n",
    "    return counter.most_common(5)"
   ]
  },
  {
   "cell_type": "code",
   "execution_count": 12,
   "id": "2a628b27",
   "metadata": {},
   "outputs": [],
   "source": [
    "''' This function prints the 5 most popular hashtag in the dataset'''\n",
    "''' On top of the function above, it ensures the hashtags contain different contextual data'''\n",
    "def getMostPopularCaseInsensitiveHashtags(df):\n",
    "    hashtags = [] \n",
    "    textColumn = df['text']\n",
    "    textColumn = textColumn.str.lower()\n",
    "    mentionPattern = r'@([a-zA-Z]+)'\n",
    "    \n",
    "    for (columnName, columnData) in textColumn.iteritems():  \n",
    "        matchList = re.findall(mentionPattern , str(columnData))\n",
    "        hashtags.extend(matchList)\n",
    "    \n",
    "        \n",
    "    counter = collections.Counter(hashtags)\n",
    "    \n",
    "    newDataFrame = pd.DataFrame(hashtags)\n",
    "    newDataFrame.to_csv('./data/HashtagsCI.csv',index = False)    \n",
    "    \n",
    "    return counter.most_common(5)\n",
    "            "
   ]
  },
  {
   "cell_type": "code",
   "execution_count": 13,
   "id": "3b414256",
   "metadata": {},
   "outputs": [],
   "source": [
    "''' This function '''\n",
    "# Each time data is in user's local time, adjusting time data \n",
    "# to reference data from a single point of source(such as GMT) is not\n",
    "# possible for this practical since timezones were not provided in the given CSV file\n",
    "\n",
    "def getTweetDataAboutTime(df):\n",
    "    hoursList = []\n",
    "    days = []\n",
    "    dates = []\n",
    "    createdAtColumn = df['created_at']\n",
    "    timeColumn = df['time']\n",
    "    \n",
    "    patternForHours = r'([01]\\d|2[0-3]):([0-5]\\d):([0-5]\\d)'\n",
    "    patternForDays = r'^Mon|Tue|Wed|Thu|Fri|Sat|Sun$'\n",
    "    patternForDates = r'(3[01]|[12][0-9]|0[1-9])/(1[0-2]|0[1-9])/([0-9]{4})'\n",
    "    \n",
    "    \n",
    "    for (columnName, columnData) in createdAtColumn.iteritems():  \n",
    "        hoursList_tuple = re.findall(patternForHours , str(columnData))\n",
    "        daysList  = re.findall(patternForDays, str(columnData ))\n",
    "        days.extend(daysList)\n",
    "        hoursList.extend(hoursList_tuple)\n",
    "    \n",
    "    \n",
    "    hours = [x[0] for x in hoursList]\n",
    "      \n",
    "    for (columnName, columnData) in timeColumn.iteritems():  \n",
    "        dateList = re.findall(patternForDates , str(columnData))\n",
    "        dates.extend(dateList)\n",
    "       \n",
    "        \n",
    "    counterHours = collections.Counter(hours)\n",
    "    counterDays = collections.Counter(days)\n",
    "    counterDates = collections.Counter(dates)\n",
    "    \n",
    "    newDataFrame = pd.DataFrame(counterHours.most_common(5))\n",
    "    newDataFrame.to_csv('./data/Hours.csv',index = False, header=False) \n",
    "    \n",
    "    newDataFrame = pd.DataFrame(counterDays.most_common(5))\n",
    "    newDataFrame.to_csv('./data/Days.csv',index = False , header=False)\n",
    "    \n",
    "    newDataFrame = pd.DataFrame(counterDates.most_common(5))\n",
    "    newDataFrame.to_csv('./data/Date.csv',index = False , header=False)\n",
    "    "
   ]
  },
  {
   "cell_type": "code",
   "execution_count": 14,
   "id": "72688fc2",
   "metadata": {},
   "outputs": [],
   "source": [
    "#''' Replacement for switch case statement is to use a dictionary mapping'''\n",
    "#def applicationParser(argument):\n",
    "#    switcher = {\n",
    "#        'Twitter Web Client' : 'Mobile Browser',\n",
    "#        'Twitter for Websites': 'Browser',\n",
    "#        'Twitter for iPad' : 'iPad App',\n",
    "#        'Twitter for iPhone' : 'iPhone App' ,\n",
    "#        'Twitter for Android': 'Android App',\n",
    "#        'Twitter for BlackBerryÂ®': 'BlackBerry App'\n",
    "#    }\n",
    "\n",
    "#    return switcher.get(argument, \"nothing\")"
   ]
  },
  {
   "cell_type": "code",
   "execution_count": 15,
   "id": "2ecf8766",
   "metadata": {},
   "outputs": [],
   "source": [
    "''' This function returns the most popular 5 app used to send the tweets'''\n",
    "''' This function also returns a seperate file with all the apps used for visualisation'''\n",
    "\n",
    "def getMostPopularApplicationsUsed(df):\n",
    "    applications = [] \n",
    "    whichApplicationColumn = df['source']\n",
    "    \n",
    "    patternForApplications = r'(?<=>).*(?=<)'\n",
    "    \n",
    "    for (columnName, columnData) in whichApplicationColumn.iteritems():\n",
    "\n",
    "        matchList = re.findall(patternForApplications, str(columnData))\n",
    "        applications.extend(matchList)\n",
    "    \n",
    "    counterApplications = collections.Counter(applications)\n",
    "    \n",
    "    newDataFrame = pd.DataFrame(counterApplications.most_common(5))\n",
    "    newDataFrame.to_csv('./data/applications.csv',index = False, header=False) \n",
    "\n",
    "    \n",
    "    return counterApplications.most_common(5)\n",
    "    \n",
    "    "
   ]
  },
  {
   "cell_type": "code",
   "execution_count": 16,
   "id": "9866617b",
   "metadata": {},
   "outputs": [],
   "source": [
    "def performDataAnalysis(df):\n",
    "    print ('The number of mention tweets is' , getNumberOfMentionTweets(df))\n",
    "    print ('The number of retweets is' , getNumberOfRetweets(df))\n",
    "    print ('The number of reply tweets is' , getNumberOfReplies(df))\n",
    "    print ('The number of general tweets is' , getNumberOfGeneralTweets(df))\n",
    "    print ('The number of total number of tweets is' , getTotalNumberOfTweets(df))\n",
    "    print ('The number of different users is' , getNumberOfDifferentUsers(df))\n",
    "    basicUserInteractionAnalysis(df)\n",
    "    print('5 most popular hashtags with their respective occurances are',getMostPopularHashtags(df))\n",
    "    print('5 contextually different most popular hashtags with their respective occurances are' \n",
    "          ,getMostPopularCaseInsensitiveHashtags(df))\n",
    "    getTweetDataAboutTime(df)\n",
    "    print('5 most popular apps to send tweets are', getMostPopularApplicationsUsed(df))"
   ]
  },
  {
   "cell_type": "code",
   "execution_count": 17,
   "id": "32322bcb",
   "metadata": {},
   "outputs": [
    {
     "name": "stdout",
     "output_type": "stream",
     "text": [
      "The number of mention tweets is 5908\n",
      "The number of retweets is 30402\n",
      "The number of reply tweets is 1542\n",
      "The number of general tweets is 8659\n",
      "The number of total number of tweets is 46511\n",
      "The number of different users is 33247\n",
      "The average number of general tweets per user is: 0.2604445513880952\n",
      "The average number of mentions tweets per user is: 0.1777002436310043\n",
      "The average number of retweets per user is: 0.9144283694769453\n",
      "The average number of replies per user is: 0.04638012452251331\n",
      "5 most popular hashtags with their respective occurances are [('Philae', 18260), ('ESA', 10417), ('esa', 3053), ('philae', 1583), ('esaoperations', 985)]\n",
      "5 contextually different most popular hashtags with their respective occurances are [('philae', 19843), ('esa', 13477), ('esaoperations', 988), ('livestream', 904), ('observingspace', 453)]\n",
      "5 most popular apps to send tweets are [('Twitter Web Client', 17453), ('Twitter for iPhone', 7673), ('Twitter for Android', 6956), ('TweetDeck', 2753), ('Twitter for iPad', 1770)]\n"
     ]
    }
   ],
   "source": [
    "performDataAnalysis(df)"
   ]
  },
  {
   "cell_type": "code",
   "execution_count": null,
   "id": "704d12ac",
   "metadata": {},
   "outputs": [],
   "source": []
  }
 ],
 "metadata": {
  "kernelspec": {
   "display_name": "Python 3 (ipykernel)",
   "language": "python",
   "name": "python3"
  },
  "language_info": {
   "codemirror_mode": {
    "name": "ipython",
    "version": 3
   },
   "file_extension": ".py",
   "mimetype": "text/x-python",
   "name": "python",
   "nbconvert_exporter": "python",
   "pygments_lexer": "ipython3",
   "version": "3.9.10"
  }
 },
 "nbformat": 4,
 "nbformat_minor": 5
}
