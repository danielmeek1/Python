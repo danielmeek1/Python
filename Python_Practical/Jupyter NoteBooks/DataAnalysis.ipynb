{
 "cells": [
  {
   "cell_type": "code",
   "execution_count": 1,
   "id": "0121f118",
   "metadata": {},
   "outputs": [],
   "source": [
    "import pandas as pd\n",
    "import re\n",
    "import collections\n",
    "import csv"
   ]
  },
  {
   "cell_type": "markdown",
   "id": "c903537b",
   "metadata": {},
   "source": [
    "# Data Analysis Justifications\n",
    "\n",
    "From the beginning, we always reminded ourselves this project is a data analysis project. We wanted to have a pipeline where the data would go through to generate the end result. Therefore we seperated the project into 3 parts. Data Refinement, Data Analysis, and Data Representation(Visualisation). \n",
    "\n",
    "In data analysis, our goal is to extract the knowledge and feed it to the next pipeline which is visualisation. While we do print the results of our data analysis which can be argued to be the data representation part, we believe this is necessary due to the relatively simple nature of this practical in the world of data science. We believe in real life applications, the knowledge would often require more delivery methods to aid learning such as graphs.\n",
    "\n",
    "This is the reasoning why we save most of the data to seperate csv files which then can be utilized by the visualisation module.\n",
    "\n",
    "Once again, we have utilized the twitter API to utilize the data better.\n",
    "We identified 4 different types of tweets these are:\n",
    "\n",
    "Source:https://help.twitter.com/en/using-twitter/types-of-tweets\n",
    "1-Mentions\n",
    "2-Replies\n",
    "3-General Tweets\n",
    "4-Retweets\n",
    "\n",
    "While the practical specification only requires tweets, retweets, and replies to be analyzed, we extended the data analysis by seperating mentions from retweets as the nature of information they convey is different.  \n",
    "\n"
   ]
  },
  {
   "cell_type": "code",
   "execution_count": 2,
   "id": "72585e45",
   "metadata": {},
   "outputs": [],
   "source": [
    "#Reads in the refined data to perform data analysis\n",
    "pd.set_option('max_colwidth', 400)\n",
    "df = pd.read_csv('./data/CleanedCometLanding.csv')"
   ]
  },
  {
   "cell_type": "code",
   "execution_count": 3,
   "id": "83486dcb",
   "metadata": {},
   "outputs": [],
   "source": [
    "''' This function returns the number of mention tweets'''\n",
    "def getNumberOfMentionTweets(df): \n",
    "    counter = 0\n",
    "    textColumn = df['text']\n",
    "    \n",
    "    for (columnName, columnData) in textColumn.iteritems():\n",
    "\n",
    "        match = re.search('RT @' , str(columnData))\n",
    "        \n",
    "        if match == None:\n",
    "            match = re.search('@' , str(columnData))\n",
    "            if match != None:\n",
    "                counter = counter + 1\n",
    "                    \n",
    "    return counter"
   ]
  },
  {
   "cell_type": "code",
   "execution_count": 4,
   "id": "6b8389ec",
   "metadata": {},
   "outputs": [],
   "source": [
    "#https://www.geeksforgeeks.org/loop-or-iterate-over-all-or-certain-columns-of-a-dataframe-in-python-pandas/\n",
    "''' This function returns the number of retweets'''\n",
    "def getNumberOfRetweets(df):\n",
    "    counter = 0;\n",
    "    textColumn = df['text']\n",
    "    \n",
    "    for (columnName, columnData) in textColumn.iteritems():\n",
    "\n",
    "        match = re.search('RT @' , str(columnData))\n",
    "        \n",
    "        if match != None:\n",
    "            counter = counter + 1\n",
    "            \n",
    "    return counter    \n",
    "        "
   ]
  },
  {
   "cell_type": "code",
   "execution_count": 5,
   "id": "f24121d9",
   "metadata": {},
   "outputs": [],
   "source": [
    "''' This function returns the number of reply tweets '''\n",
    "#Source:https://developer.twitter.com/en/docs/twitter-api/v1/data-dictionary/object-model/tweet\n",
    "def getNumberOfReplies(df):\n",
    "     \n",
    "    replies = df[\"in_reply_to_user_id_str\"].notnull().sum()  \n",
    "    \n",
    "    return replies\n",
    "    "
   ]
  },
  {
   "cell_type": "code",
   "execution_count": 6,
   "id": "ba7e5f43",
   "metadata": {},
   "outputs": [],
   "source": [
    "''' This function returns the number of general tweets'''\n",
    "def getNumberOfGeneralTweets(df):\n",
    "    mentions = getNumberOfMentionTweets(df)\n",
    "    retweets = getNumberOfRetweets(df)\n",
    "    replies = getNumberOfReplies(df)\n",
    "    \n",
    "    NumberOfGeneralTweets = len(df) - retweets - mentions - replies \n",
    "    return  NumberOfGeneralTweets"
   ]
  },
  {
   "cell_type": "code",
   "execution_count": 7,
   "id": "d8ccb9be",
   "metadata": {},
   "outputs": [],
   "source": [
    "''' This function returns total number of tweets'''\n",
    "def getTotalNumberOfTweets(df):\n",
    "    return len(df)"
   ]
  },
  {
   "cell_type": "code",
   "execution_count": 8,
   "id": "4d5b30e5",
   "metadata": {},
   "outputs": [],
   "source": [
    "''' This function returns the number of different users in the dataset'''\n",
    "def getNumberOfDifferentUsers(df):\n",
    "    differentUsers = df['from_user'].unique()\n",
    "    return len(differentUsers)"
   ]
  },
  {
   "cell_type": "markdown",
   "id": "cfcb27ab",
   "metadata": {},
   "source": [
    "We decided to extend the calculate the average number of tweets, retweets and replies sent by a user requirement with calculating the average number of followers per user and calculating the average number of friends per user in order to gain a more representative idea about the population who interacted with this event. This gives an idea about whether people who interacted with this event was popular in twitter community.  "
   ]
  },
  {
   "cell_type": "code",
   "execution_count": 9,
   "id": "333aa197",
   "metadata": {},
   "outputs": [],
   "source": [
    "''' This function prints data about the average user who interacted with this event''' \n",
    "def basicUserInteractionAnalysis(df):\n",
    "    differentUsers = getNumberOfDifferentUsers(df)\n",
    "    averageGeneralTweetsPerUser = getNumberOfGeneralTweets(df) / differentUsers\n",
    "    averageMentionsPerUser = getNumberOfMentionTweets(df) / differentUsers\n",
    "    averageRetweetsPerUser = getNumberOfRetweets(df) / differentUsers\n",
    "    averageRepliesPerUser = getNumberOfReplies(df) / differentUsers\n",
    "    averageFollowersPerUser = getTotalNumberOfUserFollowers(df) / differentUsers\n",
    "    averageFriendsPerUser = getTotalNumberOfUserFollowers(df) / differentUsers\n",
    "    \n",
    "    print(\"The average number of general tweets per user is:\", averageGeneralTweetsPerUser)\n",
    "    print(\"The average number of mentions tweets per user is:\", averageMentionsPerUser)\n",
    "    print(\"The average number of retweets per user is:\", averageRetweetsPerUser)\n",
    "    print(\"The average number of replies per user is:\", averageRepliesPerUser)\n",
    "    print(\"The average number of followers per user is:\", averageFollowersPerUser)\n",
    "    print(\"The average number of friends per user is:\", averageFriendsPerUser)\n",
    "    "
   ]
  },
  {
   "cell_type": "code",
   "execution_count": 10,
   "id": "8a9af54d",
   "metadata": {},
   "outputs": [],
   "source": [
    "''' This function prints the 5 most popular hashtags in the dataset''' \n",
    "''' This function also saves all hashtags to another file for visualisation''' \n",
    "def getMostPopularHashtags(df):\n",
    "    hashtags = [] \n",
    "    textColumn = df['text']\n",
    "    mentionPattern = '@([a-zA-Z]+)'\n",
    "    \n",
    "    for (columnName, columnData) in textColumn.iteritems():  \n",
    "        matchList = re.findall(mentionPattern , str(columnData))\n",
    "        hashtags.extend(matchList)\n",
    "    \n",
    "    counter = collections.Counter(hashtags)\n",
    "    \n",
    "    newDataFrame = pd.DataFrame(hashtags)\n",
    "    newDataFrame.to_csv('./data/Hashtags.csv',index = False)        \n",
    "    \n",
    "    return counter.most_common(5)"
   ]
  },
  {
   "cell_type": "markdown",
   "id": "97d8d38d",
   "metadata": {},
   "source": [
    "We believe it is important to have case insensitivity while analysing the hashtags because it will yield results where hashtags mean contextually different things and this can increase our undertstanding about the data"
   ]
  },
  {
   "cell_type": "code",
   "execution_count": 11,
   "id": "2a628b27",
   "metadata": {},
   "outputs": [],
   "source": [
    "''' This function prints the 5 most popular hashtag in the dataset'''\n",
    "''' On top of the function above, it ensures the hashtags contain different contextual data'''\n",
    "def getMostPopularCaseInsensitiveHashtags(df):\n",
    "    hashtags = [] \n",
    "    textColumn = df['text']\n",
    "    textColumn = textColumn.str.lower()\n",
    "    mentionPattern = r'@([a-zA-Z]+)'\n",
    "    \n",
    "    for (columnName, columnData) in textColumn.iteritems():  \n",
    "        matchList = re.findall(mentionPattern , str(columnData))\n",
    "        hashtags.extend(matchList)\n",
    "    \n",
    "        \n",
    "    counter = collections.Counter(hashtags)\n",
    "    \n",
    "    newDataFrame = pd.DataFrame(hashtags)\n",
    "    newDataFrame.to_csv('./data/HashtagsCI.csv',index = False)    \n",
    "    \n",
    "    return counter.most_common(5)\n",
    "            "
   ]
  },
  {
   "cell_type": "code",
   "execution_count": 12,
   "id": "3b414256",
   "metadata": {},
   "outputs": [],
   "source": [
    "''' This function returns data about the popular times , days, and dates that the tweets were sent at'''\n",
    "# Each time data is in user's local time, adjusting time data to be represented in one unit (such as GMT) is not\n",
    "# possible for this practical since timezones were not provided in the given CSV file\n",
    "\n",
    "def getTweetDataAboutTime(df):\n",
    "    hoursList = []\n",
    "    days = []\n",
    "    dates = []\n",
    "    createdAtColumn = df['created_at']\n",
    "    timeColumn = df['time']\n",
    "    \n",
    "    patternForHours = r'([01]\\d|2[0-3]):([0-5]\\d):([0-5]\\d)'\n",
    "    patternForDays = r'^Mon|Tue|Wed|Thu|Fri|Sat|Sun$'\n",
    "    patternForDates = r'(3[01]|[12][0-9]|0[1-9])/(1[0-2]|0[1-9])/([0-9]{4})'\n",
    "    \n",
    "    \n",
    "    for (columnName, columnData) in createdAtColumn.iteritems():  \n",
    "        hoursList_tuple = re.findall(patternForHours , str(columnData))\n",
    "        daysList  = re.findall(patternForDays, str(columnData ))\n",
    "        days.extend(daysList)\n",
    "        hoursList.extend(hoursList_tuple)\n",
    "    \n",
    "    \n",
    "    hours = [x[0] for x in hoursList]\n",
    "      \n",
    "    for (columnName, columnData) in timeColumn.iteritems():  \n",
    "        dateList = re.findall(patternForDates , str(columnData))\n",
    "        dates.extend(dateList)\n",
    "       \n",
    "        \n",
    "    counterHours = collections.Counter(hours)\n",
    "    counterDays = collections.Counter(days)\n",
    "    counterDates = collections.Counter(dates)\n",
    "    \n",
    "    newDataFrame = pd.DataFrame(counterHours.most_common(5))\n",
    "    newDataFrame.to_csv('./data/Hours.csv',index = False, header=False) \n",
    "    \n",
    "    newDataFrame = pd.DataFrame(counterDays.most_common(5))\n",
    "    newDataFrame.to_csv('./data/Days.csv',index = False , header=False)\n",
    "    \n",
    "    newDataFrame = pd.DataFrame(counterDates.most_common(5))\n",
    "    newDataFrame.to_csv('./data/Date.csv',index = False , header=False)\n",
    "    "
   ]
  },
  {
   "cell_type": "code",
   "execution_count": 13,
   "id": "30588eb1",
   "metadata": {},
   "outputs": [],
   "source": [
    "'''This function returns the most popular user language'''\n",
    "#While twitter supports 34 languages, we focused on the most commonly spoken languages for the scope of this practical\n",
    "#elif structure assures no unnecessary checks were made\n",
    "def getTweetDataAboutLanguage(df):\n",
    "    languages = [] \n",
    "    languageColumn = df['user_lang']\n",
    "    \n",
    "    englishPattern = 'en'\n",
    "    frenchPattern = 'fr'\n",
    "    germanPattern = 'de'\n",
    "    spanishPattern = 'es'\n",
    "    chinesePattern = 'zh-cn'\n",
    "    \n",
    "    for (columnName, columnData) in languageColumn.iteritems():  \n",
    "        matchList1 = re.search(englishPattern , str(columnData))\n",
    "        matchList2 = re.search(frenchPattern , str(columnData))\n",
    "        matchList3 = re.search(germanPattern , str(columnData))\n",
    "        matchList4 = re.search(spanishPattern , str(columnData))\n",
    "        matchList5 = re.search(chinesePattern , str(columnData))\n",
    "        \n",
    "        if matchList1 != None:\n",
    "            languages.append('English')\n",
    "        elif matchList2 != None:\n",
    "            languages.append('French')\n",
    "        elif matchList3 != None:\n",
    "            languages.append('German')\n",
    "        elif matchList4 != None:\n",
    "            languages.append('Spanish')\n",
    "        elif matchList5 != None:\n",
    "            languages.append('Chinese')\n",
    "        else:\n",
    "            languages.append('Other')\n",
    "        \n",
    "        \n",
    "    counterLanguages = collections.Counter(languages)\n",
    "        \n",
    "    newDataFrame = pd.DataFrame(counterLanguages.most_common(5))\n",
    "    newDataFrame.to_csv('./data/Languages.csv',index = False, header=False)\n",
    "        \n",
    "    \n",
    "        "
   ]
  },
  {
   "cell_type": "code",
   "execution_count": 14,
   "id": "72688fc2",
   "metadata": {},
   "outputs": [],
   "source": [
    "#''' Replacement for switch case statement is to use a dictionary mapping'''\n",
    "#def applicationParser(argument):\n",
    "#    switcher = {\n",
    "#        'Twitter Web Client' : 'Mobile Browser',\n",
    "#        'Twitter for Websites': 'Browser',\n",
    "#        'Twitter for iPad' : 'iPad App',\n",
    "#        'Twitter for iPhone' : 'iPhone App' ,\n",
    "#        'Twitter for Android': 'Android App',\n",
    "#        'Twitter for BlackBerryÂ®': 'BlackBerry App'\n",
    "#    }\n",
    "\n",
    "#    return switcher.get(argument, \"nothing\")"
   ]
  },
  {
   "cell_type": "code",
   "execution_count": 15,
   "id": "2ecf8766",
   "metadata": {},
   "outputs": [],
   "source": [
    "''' This function returns the most popular 5 app used to send the tweets'''\n",
    "''' This function also returns a seperate file with all the apps used for visualisation'''\n",
    "\n",
    "def getMostPopularApplicationsUsed(df):\n",
    "    applications = [] \n",
    "    whichApplicationColumn = df['source']\n",
    "    \n",
    "    patternForApplications = r'(?<=>).*(?=<)'\n",
    "    \n",
    "    for (columnName, columnData) in whichApplicationColumn.iteritems():\n",
    "\n",
    "        matchList = re.findall(patternForApplications, str(columnData))\n",
    "        applications.extend(matchList)\n",
    "    \n",
    "    counterApplications = collections.Counter(applications)\n",
    "    \n",
    "    newDataFrame = pd.DataFrame(counterApplications.most_common(5))\n",
    "    newDataFrame.to_csv('./data/applications.csv',index = False, header=False) \n",
    "\n",
    "    \n",
    "    return counterApplications.most_common(5)\n",
    "    \n",
    "    "
   ]
  },
  {
   "cell_type": "code",
   "execution_count": 16,
   "id": "1bf6c0d6",
   "metadata": {},
   "outputs": [],
   "source": [
    "def getTotalNumberOfUserFollowers(df):\n",
    "    return (df['user_followers_count'].sum())"
   ]
  },
  {
   "cell_type": "code",
   "execution_count": 17,
   "id": "c6f69651",
   "metadata": {},
   "outputs": [],
   "source": [
    "def getTotalNumbersOfUserFriends(df):\n",
    "    return (df['user_friends_count'].sum())"
   ]
  },
  {
   "cell_type": "code",
   "execution_count": 18,
   "id": "9866617b",
   "metadata": {},
   "outputs": [],
   "source": [
    "def performDataAnalysis(df):\n",
    "    print ('The number of mention tweets is' , getNumberOfMentionTweets(df))\n",
    "    print ('The number of retweets is' , getNumberOfRetweets(df))\n",
    "    print ('The number of reply tweets is' , getNumberOfReplies(df))\n",
    "    print ('The number of general tweets is' , getNumberOfGeneralTweets(df))\n",
    "    print ('The number of total number of tweets is' , getTotalNumberOfTweets(df))\n",
    "    print ('The number of different users is' , getNumberOfDifferentUsers(df))\n",
    "    basicUserInteractionAnalysis(df)\n",
    "    print('5 most popular hashtags with their respective occurances are',getMostPopularHashtags(df))\n",
    "    print('5 contextually different most popular hashtags with their respective occurances are' \n",
    "          ,getMostPopularCaseInsensitiveHashtags(df))\n",
    "    print('5 most popular apps to send tweets are', getMostPopularApplicationsUsed(df))\n",
    "    getTweetDataAboutTime(df)\n",
    "    getTweetDataAboutLanguage(df)"
   ]
  },
  {
   "cell_type": "code",
   "execution_count": 19,
   "id": "32322bcb",
   "metadata": {},
   "outputs": [
    {
     "name": "stdout",
     "output_type": "stream",
     "text": [
      "The number of mention tweets is 5908\n",
      "The number of retweets is 30402\n",
      "The number of reply tweets is 1542\n",
      "The number of general tweets is 8659\n",
      "The number of total number of tweets is 46511\n",
      "The number of different users is 33247\n",
      "The average number of general tweets per user is: 0.2604445513880952\n",
      "The average number of mentions tweets per user is: 0.1777002436310043\n",
      "The average number of retweets per user is: 0.9144283694769453\n",
      "The average number of replies per user is: 0.04638012452251331\n",
      "The average number of followers per user is: 10830.035522001985\n",
      "The average number of friends per user is: 10830.035522001985\n",
      "5 most popular hashtags with their respective occurances are [('Philae', 18260), ('ESA', 10417), ('esa', 3053), ('philae', 1583), ('esaoperations', 985)]\n",
      "5 contextually different most popular hashtags with their respective occurances are [('philae', 19843), ('esa', 13477), ('esaoperations', 988), ('livestream', 904), ('observingspace', 453)]\n",
      "5 most popular apps to send tweets are [('Twitter Web Client', 17453), ('Twitter for iPhone', 7673), ('Twitter for Android', 6956), ('TweetDeck', 2753), ('Twitter for iPad', 1770)]\n"
     ]
    }
   ],
   "source": [
    "performDataAnalysis(df)"
   ]
  },
  {
   "cell_type": "code",
   "execution_count": 20,
   "id": "704d12ac",
   "metadata": {},
   "outputs": [],
   "source": [
    "#def main():\n",
    "\n",
    "    #pd.set_option('max_colwidth', 400)\n",
    "    #df = pd.read_csv('./data/CleanedCometLanding.csv')\n",
    "    #performDataAnalysis(df)\n",
    "\n",
    "#if __name__ == \"__main__\":\n",
    "    #main()"
   ]
  }
 ],
 "metadata": {
  "kernelspec": {
   "display_name": "Python 3 (ipykernel)",
   "language": "python",
   "name": "python3"
  },
  "language_info": {
   "codemirror_mode": {
    "name": "ipython",
    "version": 3
   },
   "file_extension": ".py",
   "mimetype": "text/x-python",
   "name": "python",
   "nbconvert_exporter": "python",
   "pygments_lexer": "ipython3",
   "version": "3.9.10"
  }
 },
 "nbformat": 4,
 "nbformat_minor": 5
}
