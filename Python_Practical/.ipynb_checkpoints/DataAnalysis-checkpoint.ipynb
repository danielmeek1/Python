{
 "cells": [
  {
   "cell_type": "code",
   "execution_count": 1,
   "id": "0121f118",
   "metadata": {},
   "outputs": [],
   "source": [
    "import pandas as pd\n",
    "import re\n",
    "import collections"
   ]
  },
  {
   "cell_type": "code",
   "execution_count": 2,
   "id": "3df82ad0",
   "metadata": {},
   "outputs": [],
   "source": [
    "#Different Types Of Tweets\n",
    "#Source:https://help.twitter.com/en/using-twitter/types-of-tweets\n",
    "#Mentions\n",
    "#Replies\n",
    "#General Tweets\n",
    "#.Retweets\n",
    "#    A subset of retweets are called retweet with comments"
   ]
  },
  {
   "cell_type": "code",
   "execution_count": 3,
   "id": "72585e45",
   "metadata": {},
   "outputs": [],
   "source": [
    "pd.set_option('max_colwidth', 400)"
   ]
  },
  {
   "cell_type": "code",
   "execution_count": 4,
   "id": "f53997c7",
   "metadata": {},
   "outputs": [],
   "source": [
    "df = pd.read_csv('./data/CleanedCometLanding.csv')"
   ]
  },
  {
   "cell_type": "code",
   "execution_count": 5,
   "id": "83486dcb",
   "metadata": {},
   "outputs": [],
   "source": [
    "def getNumberOfMentionTweets(df): \n",
    "    counter = 0;\n",
    "    textColumn = df['text']\n",
    "    \n",
    "    for (columnName, columnData) in textColumn.iteritems():\n",
    "\n",
    "        match = re.search('RT @' , columnData)\n",
    "        \n",
    "        if match == None:\n",
    "            match = re.search('@' , columnData)\n",
    "            if match != None:\n",
    "                counter = counter + 1\n",
    "            \n",
    "    return counter"
   ]
  },
  {
   "cell_type": "code",
   "execution_count": 6,
   "id": "befe3847",
   "metadata": {},
   "outputs": [
    {
     "data": {
      "text/plain": [
       "6239"
      ]
     },
     "execution_count": 6,
     "metadata": {},
     "output_type": "execute_result"
    }
   ],
   "source": [
    "getNumberOfMentionTweets(df)"
   ]
  },
  {
   "cell_type": "code",
   "execution_count": 7,
   "id": "6b8389ec",
   "metadata": {},
   "outputs": [],
   "source": [
    "#https://www.geeksforgeeks.org/loop-or-iterate-over-all-or-certain-columns-of-a-dataframe-in-python-pandas/\n",
    "''' Gets the number of retweets'''\n",
    "def getNumberOfRetweets(df):\n",
    "    counter = 0;\n",
    "    textColumn = df['text']\n",
    "    \n",
    "    for (columnName, columnData) in textColumn.iteritems():\n",
    "\n",
    "        match = re.search('RT @' , columnData)\n",
    "        \n",
    "        if match != None:\n",
    "            counter = counter + 1\n",
    "            \n",
    "    return counter    \n",
    "        "
   ]
  },
  {
   "cell_type": "code",
   "execution_count": 8,
   "id": "28f1f259",
   "metadata": {},
   "outputs": [
    {
     "data": {
      "text/plain": [
       "58284"
      ]
     },
     "execution_count": 8,
     "metadata": {},
     "output_type": "execute_result"
    }
   ],
   "source": [
    "getNumberOfRetweets(df)"
   ]
  },
  {
   "cell_type": "code",
   "execution_count": 9,
   "id": "f24121d9",
   "metadata": {},
   "outputs": [],
   "source": [
    "''' Returns the number of reply tweets '''\n",
    "\n",
    "#Source:https://developer.twitter.com/en/docs/twitter-api/v1/data-dictionary/object-model/tweet\n",
    "def getNumberOfReplies(df):\n",
    "    \n",
    "    replies = df[\"in_reply_to_user_id_str\"].notnull().sum()  \n",
    "    return replies\n",
    "    #return df[\"in_reply_to_status_id_str\"].notnull().sum()"
   ]
  },
  {
   "cell_type": "code",
   "execution_count": 10,
   "id": "d635a74e",
   "metadata": {},
   "outputs": [
    {
     "data": {
      "text/plain": [
       "1686"
      ]
     },
     "execution_count": 10,
     "metadata": {},
     "output_type": "execute_result"
    }
   ],
   "source": [
    "getNumberOfReplies(df)\n"
   ]
  },
  {
   "cell_type": "code",
   "execution_count": 11,
   "id": "ba7e5f43",
   "metadata": {},
   "outputs": [],
   "source": [
    "def getNumberOfGeneralTweets(df):\n",
    "    mentions = getNumberOfMentionTweets(df)\n",
    "    retweets = getNumberOfRetweets(df)\n",
    "    replies = getNumberOfReplies(df)\n",
    "    NumberOfGeneralTweets = len(df) - retweets - mentions - replies \n",
    "    return NumberOfGeneralTweets"
   ]
  },
  {
   "cell_type": "code",
   "execution_count": 12,
   "id": "1e5f834b",
   "metadata": {},
   "outputs": [
    {
     "data": {
      "text/plain": [
       "8858"
      ]
     },
     "execution_count": 12,
     "metadata": {},
     "output_type": "execute_result"
    }
   ],
   "source": [
    "getNumberOfGeneralTweets(df)"
   ]
  },
  {
   "cell_type": "code",
   "execution_count": 13,
   "id": "d8ccb9be",
   "metadata": {},
   "outputs": [],
   "source": [
    "def getTotalNumberOfTweets(df):\n",
    "    return len(df)"
   ]
  },
  {
   "cell_type": "code",
   "execution_count": 14,
   "id": "d9731068",
   "metadata": {},
   "outputs": [
    {
     "data": {
      "text/plain": [
       "75067"
      ]
     },
     "execution_count": 14,
     "metadata": {},
     "output_type": "execute_result"
    }
   ],
   "source": [
    "getTotalNumberOfTweets(df)"
   ]
  },
  {
   "cell_type": "code",
   "execution_count": 15,
   "id": "4d5b30e5",
   "metadata": {},
   "outputs": [],
   "source": [
    "def getNumberOfDifferentUsers(df):\n",
    "    differentUsers = df['from_user'].unique()\n",
    "    return (len(differentUsers))"
   ]
  },
  {
   "cell_type": "code",
   "execution_count": 16,
   "id": "669b0f76",
   "metadata": {},
   "outputs": [
    {
     "data": {
      "text/plain": [
       "49249"
      ]
     },
     "execution_count": 16,
     "metadata": {},
     "output_type": "execute_result"
    }
   ],
   "source": [
    "getNumberOfDifferentUsers(df)"
   ]
  },
  {
   "cell_type": "code",
   "execution_count": 17,
   "id": "333aa197",
   "metadata": {},
   "outputs": [],
   "source": [
    "# the average number of tweets and replies sent by users\n",
    "def basicAnalysisOfData(df):\n",
    "    differentUsers = getNumberOfDifferentUsers(df)\n",
    "    averageGeneralTweetsPerUser = getNumberOfGeneralTweets(df) / differentUsers\n",
    "    averageMentionsPerUser = getNumberOfMentionTweets(df) / differentUsers\n",
    "    averageRetweetsPerUser = getNumberOfRetweets(df) / differentUsers\n",
    "    averageRepliesPerUser = getNumberOfReplies(df) / differentUsers\n",
    "    \n",
    "    print(\"The average number of general tweets per user is:\", averageGeneralTweetsPerUser)\n",
    "    print(\"The average number of mentions tweets per user is:\", averageMentionsPerUser)\n",
    "    print(\"The average number of retweets per user is:\", averageRetweetsPerUser)\n",
    "    print(\"The average number of replies per user is:\", averageRepliesPerUser)\n",
    "    "
   ]
  },
  {
   "cell_type": "code",
   "execution_count": 18,
   "id": "d8325831",
   "metadata": {},
   "outputs": [
    {
     "name": "stdout",
     "output_type": "stream",
     "text": [
      "The average number of general tweets per user is: 0.17986152003086356\n",
      "The average number of mentions tweets per user is: 0.12668277528477737\n",
      "The average number of retweets per user is: 1.183455501634551\n",
      "The average number of replies per user is: 0.03423419764868322\n"
     ]
    }
   ],
   "source": [
    "basicAnalysisOfData(df)"
   ]
  },
  {
   "cell_type": "code",
   "execution_count": 19,
   "id": "8a9af54d",
   "metadata": {},
   "outputs": [],
   "source": [
    "def getMostPopularHashtags(df):\n",
    "    hashtags = [] \n",
    "    textColumn = df['text']\n",
    "    mentionPattern = '@([a-zA-Z]+)'\n",
    "    \n",
    "    for (columnName, columnData) in textColumn.iteritems():  \n",
    "        matchList = re.findall(mentionPattern , columnData)\n",
    "        hashtags.extend(matchList)\n",
    "    \n",
    "    counter = collections.Counter(hashtags)\n",
    "    print(counter.most_common(5))\n",
    "            "
   ]
  },
  {
   "cell_type": "code",
   "execution_count": 20,
   "id": "ee2ab320",
   "metadata": {},
   "outputs": [
    {
     "name": "stdout",
     "output_type": "stream",
     "text": [
      "[('Philae', 30553), ('ESA', 22531), ('esa', 4386), ('philae', 3258), ('esaoperations', 3116)]\n"
     ]
    }
   ],
   "source": [
    "getMostPopularHashtags(df)"
   ]
  },
  {
   "cell_type": "code",
   "execution_count": 29,
   "id": "2a628b27",
   "metadata": {},
   "outputs": [],
   "source": [
    "def getMostPopularCaseInsensitiveHashtags(df):\n",
    "    hashtags = [] \n",
    "    textColumn = df['text']\n",
    "    mentionPattern = '@([a-zA-Z]+)'\n",
    "    \n",
    "    for (columnName, columnData) in textColumn.iteritems():  \n",
    "        matchList = re.findall(mentionPattern , columnData)\n",
    "        hashtags.extend(matchList)\n",
    "    \n",
    "        \n",
    "    counter = collections.Counter(map(str.lower,hashtags))\n",
    "    print(counter.most_common(5))\n",
    "            "
   ]
  },
  {
   "cell_type": "code",
   "execution_count": 30,
   "id": "2bc0fa3b",
   "metadata": {},
   "outputs": [
    {
     "name": "stdout",
     "output_type": "stream",
     "text": [
      "[('philae', 33811), ('esa', 26938), ('esaoperations', 3122), ('nasa', 2477), ('bbcbreaking', 2177)]\n"
     ]
    }
   ],
   "source": [
    "getMostPopularCaseInsensitiveHashtags(df)"
   ]
  },
  {
   "cell_type": "code",
   "execution_count": null,
   "id": "3b414256",
   "metadata": {},
   "outputs": [],
   "source": []
  }
 ],
 "metadata": {
  "kernelspec": {
   "display_name": "Python 3 (ipykernel)",
   "language": "python",
   "name": "python3"
  },
  "language_info": {
   "codemirror_mode": {
    "name": "ipython",
    "version": 3
   },
   "file_extension": ".py",
   "mimetype": "text/x-python",
   "name": "python",
   "nbconvert_exporter": "python",
   "pygments_lexer": "ipython3",
   "version": "3.9.10"
  }
 },
 "nbformat": 4,
 "nbformat_minor": 5
}
