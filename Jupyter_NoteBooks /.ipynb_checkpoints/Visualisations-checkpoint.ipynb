{
 "cells": [
  {
   "cell_type": "code",
   "execution_count": null,
   "id": "3854b83a",
   "metadata": {},
   "outputs": [],
   "source": [
    "import pandas as pd\n",
    "import matplotlib.pyplot as plt\n",
    "%matplotlib inline\n",
    "import matplotlib.ticker as ticker\n",
    "import matplotlib.cm as cm\n",
    "import matplotlib as mpl\n",
    "from matplotlib.gridspec import GridSpec\n",
    "import DataAnalysis as da\n",
    "import numpy as np"
   ]
  },
  {
   "cell_type": "code",
   "execution_count": null,
   "id": "d55e552e",
   "metadata": {},
   "outputs": [],
   "source": [
    "pd.set_option('max_colwidth', 400)\n",
    "df = pd.read_csv('./data/CleanedCometLanding.csv')"
   ]
  },
  {
   "cell_type": "code",
   "execution_count": null,
   "id": "6a270760",
   "metadata": {},
   "outputs": [],
   "source": [
    "''' Creates a pie chart for the structure of the dataset (tweets/retweets/replies)'''\n",
    "\n",
    "def visualiseStruct(df):\n",
    "    labels = ['General tweets', 'Mentions', 'Retweets', 'Replies']\n",
    "    proportions = []\n",
    "\n",
    "    proportions.append(da.getNumberOfGeneralTweets(df))\n",
    "    proportions.append(da.getNumberOfMentionTweets(df))\n",
    "    proportions.append(da.getNumberOfRetweets(df))\n",
    "    proportions.append(da.getNumberOfReplies(df))\n",
    "\n",
    "   plt.pie(proportions)\n",
    "   plt.show()"
   ]
  },
  {
   "cell_type": "code",
   "execution_count": null,
   "id": "9656157d",
   "metadata": {},
   "outputs": [],
   "source": [
    "visualiseStruct(df)"
   ]
  },
  {
   "cell_type": "code",
   "execution_count": null,
   "id": "c3ee539c",
   "metadata": {},
   "outputs": [],
   "source": []
  }
 ],
 "metadata": {
  "kernelspec": {
   "display_name": "Python 3 (ipykernel)",
   "language": "python",
   "name": "python3"
  },
  "language_info": {
   "codemirror_mode": {
    "name": "ipython",
    "version": 3
   },
   "file_extension": ".py",
   "mimetype": "text/x-python",
   "name": "python",
   "nbconvert_exporter": "python",
   "pygments_lexer": "ipython3",
   "version": "3.9.10"
  }
 },
 "nbformat": 4,
 "nbformat_minor": 5
}
